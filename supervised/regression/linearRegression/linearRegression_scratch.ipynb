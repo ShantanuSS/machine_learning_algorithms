{
 "cells": [
  {
   "cell_type": "code",
   "execution_count": 1,
   "metadata": {},
   "outputs": [],
   "source": [
    "# Import requrired packages\n",
    "import numpy as np\n",
    "# sklearn is just used to import a random dataset and to split the dataset into train and test\n",
    "from sklearn import datasets\n",
    "from sklearn.model_selection import train_test_split\n",
    "import matplotlib.pyplot as plt\n",
    "%matplotlib inline"
   ]
  },
  {
   "cell_type": "code",
   "execution_count": 2,
   "metadata": {},
   "outputs": [
    {
     "data": {
      "text/plain": [
       "<matplotlib.collections.PathCollection at 0x7f3ff4a1d438>"
      ]
     },
     "execution_count": 2,
     "metadata": {},
     "output_type": "execute_result"
    },
    {
     "data": {
      "image/png": "[encoded data removed]",
      "text/plain": [
       "<Figure size 432x288 with 1 Axes>"
      ]
     },
     "metadata": {
      "needs_background": "light"
     },
     "output_type": "display_data"
    }
   ],
   "source": [
    "# Generate a random regression problem.\n",
    "X, y = datasets.make_regression(n_samples=100, n_features=1, noise=20, random_state=7)\n",
    "# Analyze the data\n",
    "# print(X[:, 0])\n",
    "plt.scatter(X[:, 0], y, c='r', marker='o')"
   ]
  },
  {
   "cell_type": "code",
   "execution_count": 3,
   "metadata": {},
   "outputs": [],
   "source": [
    "# Using a sklearn function to split dataset into training and testing\n",
    "X_train, X_test, y_train, y_test = train_test_split(X, y, test_size=0.2, random_state=7)"
   ]
  },
  {
   "cell_type": "markdown",
   "metadata": {},
   "source": [
    "### Linear Regression\n",
    "We want to predict the data using linear function here.\n",
    "\n",
    "We use:\n",
    "y = wx+b; where w(Weights) is slope an b(bias) is the shift along Y-axis in 2D case\n",
    "\n",
    "This **y** gives us gives **y_approximation**\n",
    "\n",
    "#### y and x:\n",
    "    x is the independent variable. In machine learning we call these variables features.\n",
    "    y is dependent variable. In machine learning we call these variables target.\n",
    "\n",
    "#### Weight:\n",
    "    the coefficient for the independent variable. In machine learning we call coefficients weights.\n",
    "\n",
    "#### Bias:\n",
    "    the intercept where our line intercepts the y-axis. In machine learning we can call intercepts bias. Bias offsets all predictions that we make. \n",
    "    \n",
    "## Cost Function:\n",
    "#### Mean Sqauared Error\n",
    "![MSE](images/mse.jpg)\n",
    "\n",
    "where ŷ is calculated from formuala y = wx+b\n",
    "\n",
    "Now we want error as small as possible, so we want minimum of the MSE function.\n",
    "To find minimum, we calculate derivative(or gradient) wrt weight and bias, i.e.\n",
    "\n",
    "![Derivative_MSE](images/derivative_mse.png)\n",
    "\n",
    "## Gradient Descent:\n",
    "This is an iterative method to get minimum. We have some base values and then we move to the steepest descent. We go to the negative direction of the gradient.\n",
    "![Gradient Descent](images/gd_graph.png)\n",
    "\n",
    "### Update Rules\n",
    "w = w - α.dw\n",
    "\n",
    "b = b - α.db\n",
    "\n",
    "(α is learning rate and negative sign means we go to minimum)\n",
    "\n",
    "![Derivative](images/derivative_gd.png)"
   ]
  },
  {
   "cell_type": "code",
   "execution_count": 4,
   "metadata": {},
   "outputs": [],
   "source": [
    "class LinearRegression:\n",
    "    def __init__(self, learning_rate=0.01, n_iters=1000):\n",
    "        self.learning_rate = learning_rate  # Learning rate should be less as we need to hit minimum\n",
    "        self.n_iters = n_iters  # no. of iterations we want\n",
    "        self.weights = None\n",
    "        self.bias = None\n",
    "        \n",
    "    def fit(self, X_train, y_train):\n",
    "        n_samples, n_features = X_train.shape\n",
    "        self.weights = np.zeros(n_features)\n",
    "        self.bias = 0\n",
    "        # Gradient Descent method:\n",
    "        for _ in range(self.n_iters):\n",
    "            # We multiply each weight with feature component and sum it up, and we do this for all samples and finally get one value\n",
    "            y_approx = np.dot(X_train, self.weights) + self.bias  # y = wx+b\n",
    "            # Derivative wrt w:\n",
    "            # Here we want one value for feature vector component. therefore we multiply each sample with predicted value and sum if up.\n",
    "            # We do this for each feature vector component and get value for each component\n",
    "            dw = (1/n_samples) * np.dot(X_train.T, (y_approx-y_train)) # 2 is just scaling entity so we can omit\n",
    "            # Derivative wrt bias:\n",
    "            db = (1/n_samples) * np.sum(y_approx-y_train)\n",
    "            # Update rules now:\n",
    "            self.weights -= self.learning_rate*dw \n",
    "            self.bias -= self.learning_rate*db \n",
    "\n",
    "    def predict(self, X_test):\n",
    "        y_pred = np.dot(X_test, self.weights) + self.bias  # y = wx+b\n",
    "        return y_pred\n",
    "    \n",
    "    def mean_sq_error(self, y_true, y_prediction):\n",
    "        mse = np.mean((y_true-y_prediction)**2)\n",
    "        return mse "
   ]
  },
  {
   "cell_type": "code",
   "execution_count": 5,
   "metadata": {},
   "outputs": [
    {
     "name": "stdout",
     "output_type": "stream",
     "text": [
      "387.4276539117133\n"
     ]
    }
   ],
   "source": [
    "regressor = LinearRegression()\n",
    "# Call fit function to train\n",
    "regressor.fit(X_train, y_train)\n",
    "# Call predicted function\n",
    "y_predicted = regressor.predict(X_test)\n",
    "# To get error values\n",
    "mse = regressor.mean_sq_error(y_test, y_predicted)\n",
    "print(mse)"
   ]
  },
  {
   "cell_type": "code",
   "execution_count": 6,
   "metadata": {},
   "outputs": [
    {
     "data": {
      "image/png": "[encoded data removed]",
      "text/plain": [
       "<Figure size 432x288 with 1 Axes>"
      ]
     },
     "metadata": {
      "needs_background": "light"
     },
     "output_type": "display_data"
    }
   ],
   "source": [
    "# Now plot\n",
    "plt.scatter(X_train, y_train, c='r', s=10)\n",
    "plt.scatter(X_test, y_test, c='g', s=20)\n",
    "# For best fit line\n",
    "y_pred_line = regressor.predict(X)\n",
    "plt.plot(X, y_pred_line, c='black', label=\"Prediction\")\n",
    "plt.show()"
   ]
  }
 ],
 "metadata": {
  "kernelspec": {
   "display_name": "Python [conda env:mldl] *",
   "language": "python",
   "name": "conda-env-mldl-py"
  },
  "language_info": {
   "codemirror_mode": {
    "name": "ipython",
    "version": 3
   },
   "file_extension": ".py",
   "mimetype": "text/x-python",
   "name": "python",
   "nbconvert_exporter": "python",
   "pygments_lexer": "ipython3",
   "version": "3.6.9"
  }
 },
 "nbformat": 4,
 "nbformat_minor": 2
}
