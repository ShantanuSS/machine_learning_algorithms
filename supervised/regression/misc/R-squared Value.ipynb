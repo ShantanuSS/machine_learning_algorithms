{
 "cells": [
  {
   "attachments": {
    "rsquared.png": {
     "image/png": "[encoded data removed]"
    }
   },
   "cell_type": "markdown",
   "metadata": {},
   "source": [
    "## R-squared:\n",
    "* R-sqauared value is a statistical measure how close the data are to the fitted regression line.\n",
    "* It is also known as coefficient of determination or coefficient of multiple determination.\n",
    "* Generally it is considered as high r-squared value model is a good model, but sometime we can have lower r-squared value for a good model too or a high r-squared value for model which doesn't fit at all.\n",
    "* Formula for R-squared:\n",
    "\t\n",
    "\t![rsquared.png](attachment:rsquared.png)\n",
    "\n",
    "\t* SSres is sum of residual(residual is also called as error i.e distance between actual and pred point) *or also called the sum of squared Errors i.e. SSE*, SStot is sum of average total(distance between actual and average)\n",
    "    \n",
    "\t* Therefore SSres can be written as ∑(yi-ŷi)^2 and SStot can be written as ∑(yi-ȳi)^2; we are squaring as we may also have difference as negative points so to negate this we square\n",
    "\t* yi is original data point, ŷ is predicted data point, ȳ is average data point\n",
    "    * Average data point is calculated by taking average of all original data point\n",
    "\t* Output of R-squared value is from 0 to 1. If value is near to or equal to 1 then it means line is best fitted to model.\n",
    "\n",
    "* Can we get R-squared value less than 0? Yes when best fit line is worse than average best fit line(which contains average of all data points). So here actually SSres > SStot then only SSres/SStot will be > 1 so 1 - (value greater than 1) = negative value. Hence, in this case model needs to be discarded as it fitted very badly."
   ]
  },
  {
   "cell_type": "code",
   "execution_count": 1,
   "metadata": {},
   "outputs": [
    {
     "name": "stdout",
     "output_type": "stream",
     "text": [
      "1.0\n",
      "0.375\n"
     ]
    }
   ],
   "source": [
    "from sklearn.metrics import r2_score\n",
    "\n",
    "y =[10, 20, 30]\n",
    "f =[10, 20, 30]\n",
    "\n",
    "print(r2_score(y, f))\n",
    "\n",
    "y =[10, 20, 30]\n",
    "f =[20, 25, 30]\n",
    "\n",
    "print(r2_score(y, f))"
   ]
  },
  {
   "attachments": {
    "adjusted_rsquared.png": {
     "image/png": "[encoded data removed]"
    }
   },
   "cell_type": "markdown",
   "metadata": {},
   "source": [
    "## Adjusted R-squared:\n",
    "\n",
    "* We know linear regression equation for single variable is y = Θ1 + Θ2x and for multiple linear regression it will be y = Θ1 + Θ2x1 + Θ3x2 + Θ4x3 + ....\n",
    "* So as we go on adding more independent features may keep the r-squared value exactly the same or increase the r-squared value. It is called non-decreasing property of R square. This happens because:\n",
    "    * We know SSres can be written as ∑(yi-ŷi)^2; where ŷi is predicted value\n",
    "    * Let'a assume we have 2 variables and coefficient weight for them are: β0, β1. So for 2 features:\n",
    "    * ŷi can be calculated as ŷi = β0 + β1x1 + β2x2\n",
    "    * Then SSEres can be calcualted as\n",
    "        * ∑(yi-ŷi)^2\n",
    "        * ∑(i=1 to n) (yi - β1xi1 - β2xi2)\n",
    "    * Let's say if one feature is added with some coefficient weight then eqn becomes\n",
    "        * ŷi = β0 + β1x1 + β2x2 + β3x3\n",
    "        * And SSEres can be calculated as ∑(i=1 to n) (yi - β1xi1 - β2xi2 - β3xi3)\n",
    "    * Here we if have SSEres value as minimum then only R-squared value will be close to 1.\n",
    "    * So if extra estimated coefficient(β3) is zero, the SSE and the R square will stay unchanged. Or if extra estimated coefficient(β3) takes a nonzero value, the SSE will reduce as we are subtracting. So in this case, the R square will increase, because it improves the quality of the fit.\n",
    "\n",
    "* So therefore sometime if a feature is not correlated with the target output, but when we are adding such feature R-squared value is still increasing. That's why we use adjusted R-square.\n",
    "\n",
    "\n",
    "* Formula for Adjusted R-squared value is:\n",
    "\n",
    "![adjusted_rsquared.png](attachment:adjusted_rsquared.png)\n",
    "\n",
    "* Here actually `p` is number of independent features\n",
    "* If in formula `p` is increased i.e a feature is added, then whole division (num/den) increases, then 1- divison result will give smaller number.\n",
    "* So we can say whenever features increases then adjusted r-squared value decreases for uncorrelated features.\n",
    "* As when we have correlated features then R² value will be increase then 1- R² will be smaller value, even though N-1/(N-p-1) may become bigger number , but we will be multiplying smaller with bigger i.e 1-R² * N-1/(N-p-1); therefore adjusted R² value will be high.\n",
    "* But if not correlated then R² value will be less then if we mutiply slighly bigger number(1-R²) with smaller number(N-1/(N-p-1), then this multiplication will be give slightly bigger number and then 1- bigger number will give slight decreased value of  adjusted R².\n",
    "* So if we don’t find a significant increase in R² then the value of the whole expression does not increase(may even decrease).\n",
    "\n",
    "* Note: Adjusted R² value will always be less than or equal to R² value."
   ]
  },
  {
   "cell_type": "code",
   "execution_count": 5,
   "metadata": {},
   "outputs": [
    {
     "data": {
      "text/html": [
       "<div>\n",
       "<style scoped>\n",
       "    .dataframe tbody tr th:only-of-type {\n",
       "        vertical-align: middle;\n",
       "    }\n",
       "\n",
       "    .dataframe tbody tr th {\n",
       "        vertical-align: top;\n",
       "    }\n",
       "\n",
       "    .dataframe thead th {\n",
       "        text-align: right;\n",
       "    }\n",
       "</style>\n",
       "<table border=\"1\" class=\"dataframe\">\n",
       "  <thead>\n",
       "    <tr style=\"text-align: right;\">\n",
       "      <th></th>\n",
       "      <th>model</th>\n",
       "      <th>mpg</th>\n",
       "      <th>cyl</th>\n",
       "      <th>disp</th>\n",
       "      <th>hp</th>\n",
       "      <th>drat</th>\n",
       "      <th>wt</th>\n",
       "      <th>qsec</th>\n",
       "      <th>vs</th>\n",
       "      <th>am</th>\n",
       "      <th>gear</th>\n",
       "      <th>carb</th>\n",
       "    </tr>\n",
       "  </thead>\n",
       "  <tbody>\n",
       "    <tr>\n",
       "      <th>0</th>\n",
       "      <td>Mazda RX4</td>\n",
       "      <td>21.0</td>\n",
       "      <td>6</td>\n",
       "      <td>160.0</td>\n",
       "      <td>110</td>\n",
       "      <td>3.90</td>\n",
       "      <td>2.620</td>\n",
       "      <td>16.46</td>\n",
       "      <td>0</td>\n",
       "      <td>1</td>\n",
       "      <td>4</td>\n",
       "      <td>4</td>\n",
       "    </tr>\n",
       "    <tr>\n",
       "      <th>1</th>\n",
       "      <td>Mazda RX4 Wag</td>\n",
       "      <td>21.0</td>\n",
       "      <td>6</td>\n",
       "      <td>160.0</td>\n",
       "      <td>110</td>\n",
       "      <td>3.90</td>\n",
       "      <td>2.875</td>\n",
       "      <td>17.02</td>\n",
       "      <td>0</td>\n",
       "      <td>1</td>\n",
       "      <td>4</td>\n",
       "      <td>4</td>\n",
       "    </tr>\n",
       "    <tr>\n",
       "      <th>2</th>\n",
       "      <td>Datsun 710</td>\n",
       "      <td>22.8</td>\n",
       "      <td>4</td>\n",
       "      <td>108.0</td>\n",
       "      <td>93</td>\n",
       "      <td>3.85</td>\n",
       "      <td>2.320</td>\n",
       "      <td>18.61</td>\n",
       "      <td>1</td>\n",
       "      <td>1</td>\n",
       "      <td>4</td>\n",
       "      <td>1</td>\n",
       "    </tr>\n",
       "    <tr>\n",
       "      <th>3</th>\n",
       "      <td>Hornet 4 Drive</td>\n",
       "      <td>21.4</td>\n",
       "      <td>6</td>\n",
       "      <td>258.0</td>\n",
       "      <td>110</td>\n",
       "      <td>3.08</td>\n",
       "      <td>3.215</td>\n",
       "      <td>19.44</td>\n",
       "      <td>1</td>\n",
       "      <td>0</td>\n",
       "      <td>3</td>\n",
       "      <td>1</td>\n",
       "    </tr>\n",
       "    <tr>\n",
       "      <th>4</th>\n",
       "      <td>Hornet Sportabout</td>\n",
       "      <td>18.7</td>\n",
       "      <td>8</td>\n",
       "      <td>360.0</td>\n",
       "      <td>175</td>\n",
       "      <td>3.15</td>\n",
       "      <td>3.440</td>\n",
       "      <td>17.02</td>\n",
       "      <td>0</td>\n",
       "      <td>0</td>\n",
       "      <td>3</td>\n",
       "      <td>2</td>\n",
       "    </tr>\n",
       "  </tbody>\n",
       "</table>\n",
       "</div>"
      ],
      "text/plain": [
       "               model   mpg  cyl   disp   hp  drat     wt   qsec  vs  am  gear  \\\n",
       "0          Mazda RX4  21.0    6  160.0  110  3.90  2.620  16.46   0   1     4   \n",
       "1      Mazda RX4 Wag  21.0    6  160.0  110  3.90  2.875  17.02   0   1     4   \n",
       "2         Datsun 710  22.8    4  108.0   93  3.85  2.320  18.61   1   1     4   \n",
       "3     Hornet 4 Drive  21.4    6  258.0  110  3.08  3.215  19.44   1   0     3   \n",
       "4  Hornet Sportabout  18.7    8  360.0  175  3.15  3.440  17.02   0   0     3   \n",
       "\n",
       "   carb  \n",
       "0     4  \n",
       "1     4  \n",
       "2     1  \n",
       "3     1  \n",
       "4     2  "
      ]
     },
     "execution_count": 5,
     "metadata": {},
     "output_type": "execute_result"
    }
   ],
   "source": [
    "# Importing required libaries\n",
    "from sklearn.linear_model import LinearRegression\n",
    "import pandas as pd\n",
    "\n",
    "# Reading the data\n",
    "df = pd.read_csv(\"https://raw.githubusercontent.com/Statology/Python-Guides/main/mtcars.csv\")\n",
    "df.head()"
   ]
  },
  {
   "cell_type": "code",
   "execution_count": 20,
   "metadata": {},
   "outputs": [
    {
     "data": {
      "text/plain": [
       "0.6462491675381347"
      ]
     },
     "execution_count": 20,
     "metadata": {},
     "output_type": "execute_result"
    }
   ],
   "source": [
    "# Fit linear regression model\n",
    "linReg = LinearRegression()\n",
    "\n",
    "# Filter out some independent features and also dependent feature\n",
    "X, y = df[[\"mpg\", \"drat\", \"wt\", \"gear\"]], df.hp\n",
    "\n",
    "# Fit the model on these features\n",
    "linReg.fit(X, y)\n",
    "\n",
    "# .score returns the coefficient of determination of the prediction i.e. R-squared value\n",
    "# Applying formula as given in above image\n",
    "adj_r_squared_val = 1 - (1-linReg.score(X, y))*(len(y)-1)/(len(y)-X.shape[1]-1)\n",
    "adj_r_squared_val"
   ]
  },
  {
   "cell_type": "markdown",
   "metadata": {},
   "source": [
    "### If we increase a feature we can see if it's correlated then adj_r_squared_val will increase:"
   ]
  },
  {
   "cell_type": "code",
   "execution_count": 21,
   "metadata": {},
   "outputs": [
    {
     "data": {
      "text/plain": [
       "0.7919852260002518"
      ]
     },
     "execution_count": 21,
     "metadata": {},
     "output_type": "execute_result"
    }
   ],
   "source": [
    "X, y = df[[\"mpg\", \"drat\", \"wt\", \"gear\", \"disp\"]], df.hp\n",
    "\n",
    "# Fit the model on these features\n",
    "linReg.fit(X, y)\n",
    "\n",
    "# .score returns the coefficient of determination of the prediction i.e. R-squared value\n",
    "# Applying formula as given in above image\n",
    "adj_r_squared_val = 1 - (1-linReg.score(X, y))*(len(y)-1)/(len(y)-X.shape[1]-1)\n",
    "adj_r_squared_val"
   ]
  },
  {
   "cell_type": "markdown",
   "metadata": {},
   "source": [
    "### If we increase a less meaningful feature we can see R-squared is only slighly increased:\n",
    "\n",
    "**(which also means if there was feature which was not at all correlated with target variable then the value would have decreased)**"
   ]
  },
  {
   "cell_type": "code",
   "execution_count": 24,
   "metadata": {},
   "outputs": [
    {
     "data": {
      "text/plain": [
       "0.6463518348027933"
      ]
     },
     "execution_count": 24,
     "metadata": {},
     "output_type": "execute_result"
    }
   ],
   "source": [
    "# Encoding model name feature from string to numeric as model takes numeric data\n",
    "from sklearn import preprocessing\n",
    "\n",
    "label_encoder = preprocessing.LabelEncoder()\n",
    "df[\"model\"] = label_encoder.fit_transform(df[\"model\"])\n",
    "\n",
    "X, y = df[[\"mpg\", \"drat\", \"wt\", \"gear\", \"model\"]], df.hp\n",
    "\n",
    "# Fit the model on these features\n",
    "linReg.fit(X, y)\n",
    "\n",
    "adj_r_squared_val = 1 - (1-linReg.score(X, y))*(len(y)-1)/(len(y)-X.shape[1]-1)\n",
    "adj_r_squared_val\n",
    "# Here we can see it has increase slightly only"
   ]
  }
 ],
 "metadata": {
  "kernelspec": {
   "display_name": "Python [conda env:mldl] *",
   "language": "python",
   "name": "conda-env-mldl-py"
  },
  "language_info": {
   "codemirror_mode": {
    "name": "ipython",
    "version": 3
   },
   "file_extension": ".py",
   "mimetype": "text/x-python",
   "name": "python",
   "nbconvert_exporter": "python",
   "pygments_lexer": "ipython3",
   "version": "3.6.9"
  }
 },
 "nbformat": 4,
 "nbformat_minor": 2
}
